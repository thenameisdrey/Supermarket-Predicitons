{
 "cells": [
  {
   "cell_type": "code",
   "execution_count": 1,
   "metadata": {},
   "outputs": [],
   "source": [
    "import numpy as np\n",
    "import pandas as pd\n",
    "import matplotlib.pyplot as plt\n",
    "%matplotlib inline\n",
    "import seaborn as sns\n",
    "color = sns.color_palette()\n",
    "sns.set_style('darkgrid')\n",
    "import warnings\n",
    "def ignore_warn(*args, **kwargs):\n",
    "    pass\n",
    "warnings.warn = ignore_warn #ignore annoying warning (from sklearn and seaborn)\n",
    "\n",
    "\n",
    "from scipy import stats\n",
    "from scipy.stats import norm, skew #for some statistics\n",
    "\n",
    "\n",
    "pd.set_option('display.float_format', lambda x: '{:.3f}'.format(x)) #Limiting floats output to 3 decimal points\n",
    "\n",
    "\n",
    "from subprocess import check_output\n",
    "from sklearn import preprocessing"
   ]
  },
  {
   "cell_type": "code",
   "execution_count": 2,
   "metadata": {},
   "outputs": [],
   "source": [
    "train = pd.read_csv('train.csv')\n",
    "test = pd.read_csv('test.csv')"
   ]
  },
  {
   "cell_type": "code",
   "execution_count": 3,
   "metadata": {},
   "outputs": [
    {
     "data": {
      "text/html": [
       "<div>\n",
       "<style scoped>\n",
       "    .dataframe tbody tr th:only-of-type {\n",
       "        vertical-align: middle;\n",
       "    }\n",
       "\n",
       "    .dataframe tbody tr th {\n",
       "        vertical-align: top;\n",
       "    }\n",
       "\n",
       "    .dataframe thead th {\n",
       "        text-align: right;\n",
       "    }\n",
       "</style>\n",
       "<table border=\"1\" class=\"dataframe\">\n",
       "  <thead>\n",
       "    <tr style=\"text-align: right;\">\n",
       "      <th></th>\n",
       "      <th>Product_Identifier</th>\n",
       "      <th>Supermarket_Identifier</th>\n",
       "      <th>Product_Supermarket_Identifier</th>\n",
       "      <th>Product_Weight</th>\n",
       "      <th>Product_Fat_Content</th>\n",
       "      <th>Product_Shelf_Visibility</th>\n",
       "      <th>Product_Type</th>\n",
       "      <th>Product_Price</th>\n",
       "      <th>Supermarket_Opening_Year</th>\n",
       "      <th>Supermarket _Size</th>\n",
       "      <th>Supermarket_Location_Type</th>\n",
       "      <th>Supermarket_Type</th>\n",
       "      <th>Product_Supermarket_Sales</th>\n",
       "    </tr>\n",
       "  </thead>\n",
       "  <tbody>\n",
       "    <tr>\n",
       "      <th>0</th>\n",
       "      <td>DRA12</td>\n",
       "      <td>CHUKWUDI010</td>\n",
       "      <td>DRA12_CHUKWUDI010</td>\n",
       "      <td>11.600</td>\n",
       "      <td>Low Fat</td>\n",
       "      <td>0.069</td>\n",
       "      <td>Soft Drinks</td>\n",
       "      <td>357.540</td>\n",
       "      <td>2005</td>\n",
       "      <td>NaN</td>\n",
       "      <td>Cluster 3</td>\n",
       "      <td>Grocery Store</td>\n",
       "      <td>709.080</td>\n",
       "    </tr>\n",
       "    <tr>\n",
       "      <th>1</th>\n",
       "      <td>DRA12</td>\n",
       "      <td>CHUKWUDI013</td>\n",
       "      <td>DRA12_CHUKWUDI013</td>\n",
       "      <td>11.600</td>\n",
       "      <td>Low Fat</td>\n",
       "      <td>0.041</td>\n",
       "      <td>Soft Drinks</td>\n",
       "      <td>355.790</td>\n",
       "      <td>1994</td>\n",
       "      <td>High</td>\n",
       "      <td>Cluster 3</td>\n",
       "      <td>Supermarket Type1</td>\n",
       "      <td>6381.690</td>\n",
       "    </tr>\n",
       "    <tr>\n",
       "      <th>2</th>\n",
       "      <td>DRA12</td>\n",
       "      <td>CHUKWUDI017</td>\n",
       "      <td>DRA12_CHUKWUDI017</td>\n",
       "      <td>11.600</td>\n",
       "      <td>Low Fat</td>\n",
       "      <td>0.041</td>\n",
       "      <td>Soft Drinks</td>\n",
       "      <td>350.790</td>\n",
       "      <td>2014</td>\n",
       "      <td>NaN</td>\n",
       "      <td>Cluster 2</td>\n",
       "      <td>Supermarket Type1</td>\n",
       "      <td>6381.690</td>\n",
       "    </tr>\n",
       "    <tr>\n",
       "      <th>3</th>\n",
       "      <td>DRA12</td>\n",
       "      <td>CHUKWUDI018</td>\n",
       "      <td>DRA12_CHUKWUDI018</td>\n",
       "      <td>11.600</td>\n",
       "      <td>Low Fat</td>\n",
       "      <td>0.041</td>\n",
       "      <td>Soft Drinks</td>\n",
       "      <td>355.040</td>\n",
       "      <td>2016</td>\n",
       "      <td>Medium</td>\n",
       "      <td>Cluster 3</td>\n",
       "      <td>Supermarket Type2</td>\n",
       "      <td>2127.230</td>\n",
       "    </tr>\n",
       "    <tr>\n",
       "      <th>4</th>\n",
       "      <td>DRA12</td>\n",
       "      <td>CHUKWUDI035</td>\n",
       "      <td>DRA12_CHUKWUDI035</td>\n",
       "      <td>11.600</td>\n",
       "      <td>Ultra Low fat</td>\n",
       "      <td>0.000</td>\n",
       "      <td>Soft Drinks</td>\n",
       "      <td>354.790</td>\n",
       "      <td>2011</td>\n",
       "      <td>Small</td>\n",
       "      <td>Cluster 2</td>\n",
       "      <td>Supermarket Type1</td>\n",
       "      <td>2481.770</td>\n",
       "    </tr>\n",
       "  </tbody>\n",
       "</table>\n",
       "</div>"
      ],
      "text/plain": [
       "  Product_Identifier Supermarket_Identifier Product_Supermarket_Identifier  \\\n",
       "0              DRA12            CHUKWUDI010              DRA12_CHUKWUDI010   \n",
       "1              DRA12            CHUKWUDI013              DRA12_CHUKWUDI013   \n",
       "2              DRA12            CHUKWUDI017              DRA12_CHUKWUDI017   \n",
       "3              DRA12            CHUKWUDI018              DRA12_CHUKWUDI018   \n",
       "4              DRA12            CHUKWUDI035              DRA12_CHUKWUDI035   \n",
       "\n",
       "   Product_Weight Product_Fat_Content  Product_Shelf_Visibility Product_Type  \\\n",
       "0          11.600             Low Fat                     0.069  Soft Drinks   \n",
       "1          11.600             Low Fat                     0.041  Soft Drinks   \n",
       "2          11.600             Low Fat                     0.041  Soft Drinks   \n",
       "3          11.600             Low Fat                     0.041  Soft Drinks   \n",
       "4          11.600       Ultra Low fat                     0.000  Soft Drinks   \n",
       "\n",
       "   Product_Price  Supermarket_Opening_Year Supermarket _Size  \\\n",
       "0        357.540                      2005               NaN   \n",
       "1        355.790                      1994              High   \n",
       "2        350.790                      2014               NaN   \n",
       "3        355.040                      2016            Medium   \n",
       "4        354.790                      2011             Small   \n",
       "\n",
       "  Supermarket_Location_Type   Supermarket_Type  Product_Supermarket_Sales  \n",
       "0                 Cluster 3      Grocery Store                    709.080  \n",
       "1                 Cluster 3  Supermarket Type1                   6381.690  \n",
       "2                 Cluster 2  Supermarket Type1                   6381.690  \n",
       "3                 Cluster 3  Supermarket Type2                   2127.230  \n",
       "4                 Cluster 2  Supermarket Type1                   2481.770  "
      ]
     },
     "execution_count": 3,
     "metadata": {},
     "output_type": "execute_result"
    }
   ],
   "source": [
    "train.head()"
   ]
  },
  {
   "cell_type": "code",
   "execution_count": 4,
   "metadata": {},
   "outputs": [
    {
     "data": {
      "text/html": [
       "<div>\n",
       "<style scoped>\n",
       "    .dataframe tbody tr th:only-of-type {\n",
       "        vertical-align: middle;\n",
       "    }\n",
       "\n",
       "    .dataframe tbody tr th {\n",
       "        vertical-align: top;\n",
       "    }\n",
       "\n",
       "    .dataframe thead th {\n",
       "        text-align: right;\n",
       "    }\n",
       "</style>\n",
       "<table border=\"1\" class=\"dataframe\">\n",
       "  <thead>\n",
       "    <tr style=\"text-align: right;\">\n",
       "      <th></th>\n",
       "      <th>Product_Identifier</th>\n",
       "      <th>Supermarket_Identifier</th>\n",
       "      <th>Product_Supermarket_Identifier</th>\n",
       "      <th>Product_Weight</th>\n",
       "      <th>Product_Fat_Content</th>\n",
       "      <th>Product_Shelf_Visibility</th>\n",
       "      <th>Product_Type</th>\n",
       "      <th>Product_Price</th>\n",
       "      <th>Supermarket_Opening_Year</th>\n",
       "      <th>Supermarket _Size</th>\n",
       "      <th>Supermarket_Location_Type</th>\n",
       "      <th>Supermarket_Type</th>\n",
       "      <th>Product_Supermarket_Sales</th>\n",
       "    </tr>\n",
       "  </thead>\n",
       "  <tbody>\n",
       "    <tr>\n",
       "      <th>4985</th>\n",
       "      <td>NCZ54</td>\n",
       "      <td>CHUKWUDI019</td>\n",
       "      <td>NCZ54_CHUKWUDI019</td>\n",
       "      <td>nan</td>\n",
       "      <td>Low Fat</td>\n",
       "      <td>0.146</td>\n",
       "      <td>Household</td>\n",
       "      <td>402.390</td>\n",
       "      <td>1992</td>\n",
       "      <td>Small</td>\n",
       "      <td>Cluster 1</td>\n",
       "      <td>Grocery Store</td>\n",
       "      <td>406.140</td>\n",
       "    </tr>\n",
       "    <tr>\n",
       "      <th>4986</th>\n",
       "      <td>NCZ54</td>\n",
       "      <td>CHUKWUDI027</td>\n",
       "      <td>NCZ54_CHUKWUDI027</td>\n",
       "      <td>nan</td>\n",
       "      <td>Low Fat</td>\n",
       "      <td>0.083</td>\n",
       "      <td>Household</td>\n",
       "      <td>410.140</td>\n",
       "      <td>1992</td>\n",
       "      <td>Medium</td>\n",
       "      <td>Cluster 3</td>\n",
       "      <td>Supermarket Type3</td>\n",
       "      <td>13808.690</td>\n",
       "    </tr>\n",
       "    <tr>\n",
       "      <th>4987</th>\n",
       "      <td>NCZ54</td>\n",
       "      <td>CHUKWUDI045</td>\n",
       "      <td>NCZ54_CHUKWUDI045</td>\n",
       "      <td>14.650</td>\n",
       "      <td>Low Fat</td>\n",
       "      <td>0.084</td>\n",
       "      <td>Household</td>\n",
       "      <td>406.140</td>\n",
       "      <td>2009</td>\n",
       "      <td>NaN</td>\n",
       "      <td>Cluster 2</td>\n",
       "      <td>Supermarket Type1</td>\n",
       "      <td>5685.930</td>\n",
       "    </tr>\n",
       "    <tr>\n",
       "      <th>4988</th>\n",
       "      <td>NCZ54</td>\n",
       "      <td>CHUKWUDI046</td>\n",
       "      <td>NCZ54_CHUKWUDI046</td>\n",
       "      <td>14.650</td>\n",
       "      <td>Low Fat</td>\n",
       "      <td>0.083</td>\n",
       "      <td>Household</td>\n",
       "      <td>404.890</td>\n",
       "      <td>2004</td>\n",
       "      <td>Small</td>\n",
       "      <td>Cluster 1</td>\n",
       "      <td>Supermarket Type1</td>\n",
       "      <td>11778.000</td>\n",
       "    </tr>\n",
       "    <tr>\n",
       "      <th>4989</th>\n",
       "      <td>NCZ54</td>\n",
       "      <td>CHUKWUDI049</td>\n",
       "      <td>NCZ54_CHUKWUDI049</td>\n",
       "      <td>14.650</td>\n",
       "      <td>Low Fat</td>\n",
       "      <td>0.083</td>\n",
       "      <td>Household</td>\n",
       "      <td>403.390</td>\n",
       "      <td>2006</td>\n",
       "      <td>Medium</td>\n",
       "      <td>Cluster 1</td>\n",
       "      <td>Supermarket Type1</td>\n",
       "      <td>17870.070</td>\n",
       "    </tr>\n",
       "  </tbody>\n",
       "</table>\n",
       "</div>"
      ],
      "text/plain": [
       "     Product_Identifier Supermarket_Identifier Product_Supermarket_Identifier  \\\n",
       "4985              NCZ54            CHUKWUDI019              NCZ54_CHUKWUDI019   \n",
       "4986              NCZ54            CHUKWUDI027              NCZ54_CHUKWUDI027   \n",
       "4987              NCZ54            CHUKWUDI045              NCZ54_CHUKWUDI045   \n",
       "4988              NCZ54            CHUKWUDI046              NCZ54_CHUKWUDI046   \n",
       "4989              NCZ54            CHUKWUDI049              NCZ54_CHUKWUDI049   \n",
       "\n",
       "      Product_Weight Product_Fat_Content  Product_Shelf_Visibility  \\\n",
       "4985             nan             Low Fat                     0.146   \n",
       "4986             nan             Low Fat                     0.083   \n",
       "4987          14.650             Low Fat                     0.084   \n",
       "4988          14.650             Low Fat                     0.083   \n",
       "4989          14.650             Low Fat                     0.083   \n",
       "\n",
       "     Product_Type  Product_Price  Supermarket_Opening_Year Supermarket _Size  \\\n",
       "4985    Household        402.390                      1992             Small   \n",
       "4986    Household        410.140                      1992            Medium   \n",
       "4987    Household        406.140                      2009               NaN   \n",
       "4988    Household        404.890                      2004             Small   \n",
       "4989    Household        403.390                      2006            Medium   \n",
       "\n",
       "     Supermarket_Location_Type   Supermarket_Type  Product_Supermarket_Sales  \n",
       "4985                 Cluster 1      Grocery Store                    406.140  \n",
       "4986                 Cluster 3  Supermarket Type3                  13808.690  \n",
       "4987                 Cluster 2  Supermarket Type1                   5685.930  \n",
       "4988                 Cluster 1  Supermarket Type1                  11778.000  \n",
       "4989                 Cluster 1  Supermarket Type1                  17870.070  "
      ]
     },
     "execution_count": 4,
     "metadata": {},
     "output_type": "execute_result"
    }
   ],
   "source": [
    "train.tail()"
   ]
  },
  {
   "cell_type": "code",
   "execution_count": 5,
   "metadata": {
    "scrolled": true
   },
   "outputs": [
    {
     "data": {
      "text/plain": [
       "0          NaN\n",
       "1         High\n",
       "2          NaN\n",
       "3       Medium\n",
       "4        Small\n",
       "5          NaN\n",
       "6          NaN\n",
       "7         High\n",
       "8          NaN\n",
       "9        Small\n",
       "10      Medium\n",
       "11       Small\n",
       "12      Medium\n",
       "13         NaN\n",
       "14      Medium\n",
       "15       Small\n",
       "16      Medium\n",
       "17       Small\n",
       "18      Medium\n",
       "19      Medium\n",
       "20      Medium\n",
       "21         NaN\n",
       "22       Small\n",
       "23      Medium\n",
       "24         NaN\n",
       "25       Small\n",
       "26         NaN\n",
       "27      Medium\n",
       "28         NaN\n",
       "29        High\n",
       "         ...  \n",
       "4960     Small\n",
       "4961    Medium\n",
       "4962       NaN\n",
       "4963       NaN\n",
       "4964     Small\n",
       "4965     Small\n",
       "4966       NaN\n",
       "4967       NaN\n",
       "4968      High\n",
       "4969     Small\n",
       "4970       NaN\n",
       "4971      High\n",
       "4972       NaN\n",
       "4973    Medium\n",
       "4974      High\n",
       "4975       NaN\n",
       "4976    Medium\n",
       "4977     Small\n",
       "4978       NaN\n",
       "4979     Small\n",
       "4980    Medium\n",
       "4981    Medium\n",
       "4982    Medium\n",
       "4983       NaN\n",
       "4984    Medium\n",
       "4985     Small\n",
       "4986    Medium\n",
       "4987       NaN\n",
       "4988     Small\n",
       "4989    Medium\n",
       "Name: Supermarket _Size, Length: 4990, dtype: object"
      ]
     },
     "execution_count": 5,
     "metadata": {},
     "output_type": "execute_result"
    }
   ],
   "source": [
    "train.pop('Product_Identifier')\n",
    "train.pop('Supermarket_Identifier')\n",
    "train.pop('Product_Fat_Content')\n",
    "train.pop('Product_Weight')\n",
    "train.pop('Supermarket _Size')"
   ]
  },
  {
   "cell_type": "code",
   "execution_count": 6,
   "metadata": {
    "scrolled": true
   },
   "outputs": [
    {
     "data": {
      "text/plain": [
       "0          NaN\n",
       "1         High\n",
       "2         High\n",
       "3          NaN\n",
       "4         High\n",
       "5          NaN\n",
       "6       Medium\n",
       "7        Small\n",
       "8          NaN\n",
       "9       Medium\n",
       "10       Small\n",
       "11       Small\n",
       "12      Medium\n",
       "13         NaN\n",
       "14      Medium\n",
       "15      Medium\n",
       "16         NaN\n",
       "17       Small\n",
       "18       Small\n",
       "19         NaN\n",
       "20      Medium\n",
       "21       Small\n",
       "22      Medium\n",
       "23         NaN\n",
       "24       Small\n",
       "25         NaN\n",
       "26      Medium\n",
       "27      Medium\n",
       "28        High\n",
       "29         NaN\n",
       "         ...  \n",
       "3502     Small\n",
       "3503       NaN\n",
       "3504     Small\n",
       "3505    Medium\n",
       "3506       NaN\n",
       "3507    Medium\n",
       "3508     Small\n",
       "3509     Small\n",
       "3510      High\n",
       "3511    Medium\n",
       "3512     Small\n",
       "3513    Medium\n",
       "3514       NaN\n",
       "3515    Medium\n",
       "3516    Medium\n",
       "3517       NaN\n",
       "3518     Small\n",
       "3519    Medium\n",
       "3520     Small\n",
       "3521    Medium\n",
       "3522       NaN\n",
       "3523    Medium\n",
       "3524     Small\n",
       "3525       NaN\n",
       "3526       NaN\n",
       "3527       NaN\n",
       "3528      High\n",
       "3529    Medium\n",
       "3530       NaN\n",
       "3531      High\n",
       "Name: Supermarket _Size, Length: 3532, dtype: object"
      ]
     },
     "execution_count": 6,
     "metadata": {},
     "output_type": "execute_result"
    }
   ],
   "source": [
    "test.pop('Product_Identifier')\n",
    "test.pop('Supermarket_Identifier')\n",
    "test.pop('Product_Fat_Content')\n",
    "test.pop('Product_Weight')\n",
    "test.pop('Supermarket _Size')"
   ]
  },
  {
   "cell_type": "code",
   "execution_count": 7,
   "metadata": {},
   "outputs": [
    {
     "data": {
      "text/html": [
       "<div>\n",
       "<style scoped>\n",
       "    .dataframe tbody tr th:only-of-type {\n",
       "        vertical-align: middle;\n",
       "    }\n",
       "\n",
       "    .dataframe tbody tr th {\n",
       "        vertical-align: top;\n",
       "    }\n",
       "\n",
       "    .dataframe thead th {\n",
       "        text-align: right;\n",
       "    }\n",
       "</style>\n",
       "<table border=\"1\" class=\"dataframe\">\n",
       "  <thead>\n",
       "    <tr style=\"text-align: right;\">\n",
       "      <th></th>\n",
       "      <th>Product_Supermarket_Identifier</th>\n",
       "      <th>Product_Shelf_Visibility</th>\n",
       "      <th>Product_Type</th>\n",
       "      <th>Product_Price</th>\n",
       "      <th>Supermarket_Opening_Year</th>\n",
       "      <th>Supermarket_Location_Type</th>\n",
       "      <th>Supermarket_Type</th>\n",
       "      <th>Product_Supermarket_Sales</th>\n",
       "    </tr>\n",
       "  </thead>\n",
       "  <tbody>\n",
       "    <tr>\n",
       "      <th>0</th>\n",
       "      <td>DRA12_CHUKWUDI010</td>\n",
       "      <td>0.069</td>\n",
       "      <td>Soft Drinks</td>\n",
       "      <td>357.540</td>\n",
       "      <td>2005</td>\n",
       "      <td>Cluster 3</td>\n",
       "      <td>Grocery Store</td>\n",
       "      <td>709.080</td>\n",
       "    </tr>\n",
       "    <tr>\n",
       "      <th>1</th>\n",
       "      <td>DRA12_CHUKWUDI013</td>\n",
       "      <td>0.041</td>\n",
       "      <td>Soft Drinks</td>\n",
       "      <td>355.790</td>\n",
       "      <td>1994</td>\n",
       "      <td>Cluster 3</td>\n",
       "      <td>Supermarket Type1</td>\n",
       "      <td>6381.690</td>\n",
       "    </tr>\n",
       "    <tr>\n",
       "      <th>2</th>\n",
       "      <td>DRA12_CHUKWUDI017</td>\n",
       "      <td>0.041</td>\n",
       "      <td>Soft Drinks</td>\n",
       "      <td>350.790</td>\n",
       "      <td>2014</td>\n",
       "      <td>Cluster 2</td>\n",
       "      <td>Supermarket Type1</td>\n",
       "      <td>6381.690</td>\n",
       "    </tr>\n",
       "    <tr>\n",
       "      <th>3</th>\n",
       "      <td>DRA12_CHUKWUDI018</td>\n",
       "      <td>0.041</td>\n",
       "      <td>Soft Drinks</td>\n",
       "      <td>355.040</td>\n",
       "      <td>2016</td>\n",
       "      <td>Cluster 3</td>\n",
       "      <td>Supermarket Type2</td>\n",
       "      <td>2127.230</td>\n",
       "    </tr>\n",
       "    <tr>\n",
       "      <th>4</th>\n",
       "      <td>DRA12_CHUKWUDI035</td>\n",
       "      <td>0.000</td>\n",
       "      <td>Soft Drinks</td>\n",
       "      <td>354.790</td>\n",
       "      <td>2011</td>\n",
       "      <td>Cluster 2</td>\n",
       "      <td>Supermarket Type1</td>\n",
       "      <td>2481.770</td>\n",
       "    </tr>\n",
       "  </tbody>\n",
       "</table>\n",
       "</div>"
      ],
      "text/plain": [
       "  Product_Supermarket_Identifier  Product_Shelf_Visibility Product_Type  \\\n",
       "0              DRA12_CHUKWUDI010                     0.069  Soft Drinks   \n",
       "1              DRA12_CHUKWUDI013                     0.041  Soft Drinks   \n",
       "2              DRA12_CHUKWUDI017                     0.041  Soft Drinks   \n",
       "3              DRA12_CHUKWUDI018                     0.041  Soft Drinks   \n",
       "4              DRA12_CHUKWUDI035                     0.000  Soft Drinks   \n",
       "\n",
       "   Product_Price  Supermarket_Opening_Year Supermarket_Location_Type  \\\n",
       "0        357.540                      2005                 Cluster 3   \n",
       "1        355.790                      1994                 Cluster 3   \n",
       "2        350.790                      2014                 Cluster 2   \n",
       "3        355.040                      2016                 Cluster 3   \n",
       "4        354.790                      2011                 Cluster 2   \n",
       "\n",
       "    Supermarket_Type  Product_Supermarket_Sales  \n",
       "0      Grocery Store                    709.080  \n",
       "1  Supermarket Type1                   6381.690  \n",
       "2  Supermarket Type1                   6381.690  \n",
       "3  Supermarket Type2                   2127.230  \n",
       "4  Supermarket Type1                   2481.770  "
      ]
     },
     "execution_count": 7,
     "metadata": {},
     "output_type": "execute_result"
    }
   ],
   "source": [
    "train.head()"
   ]
  },
  {
   "cell_type": "code",
   "execution_count": 8,
   "metadata": {},
   "outputs": [
    {
     "name": "stdout",
     "output_type": "stream",
     "text": [
      "Product_Supermarket_Identifier    0\n",
      "Product_Shelf_Visibility          0\n",
      "Product_Type                      0\n",
      "Product_Price                     0\n",
      "Supermarket_Opening_Year          0\n",
      "Supermarket_Location_Type         0\n",
      "Supermarket_Type                  0\n",
      "Product_Supermarket_Sales         0\n",
      "dtype: int64\n"
     ]
    }
   ],
   "source": [
    "print(train.isnull().sum())"
   ]
  },
  {
   "cell_type": "code",
   "execution_count": 9,
   "metadata": {},
   "outputs": [
    {
     "data": {
      "text/plain": [
       "4990"
      ]
     },
     "execution_count": 9,
     "metadata": {},
     "output_type": "execute_result"
    }
   ],
   "source": [
    "len(train)"
   ]
  },
  {
   "cell_type": "code",
   "execution_count": 10,
   "metadata": {},
   "outputs": [
    {
     "name": "stdout",
     "output_type": "stream",
     "text": [
      "Product_Supermarket_Identifier    0\n",
      "Product_Shelf_Visibility          0\n",
      "Product_Type                      0\n",
      "Product_Price                     0\n",
      "Supermarket_Opening_Year          0\n",
      "Supermarket_Location_Type         0\n",
      "Supermarket_Type                  0\n",
      "dtype: int64\n"
     ]
    }
   ],
   "source": [
    "print(test.isnull().sum())"
   ]
  },
  {
   "cell_type": "code",
   "execution_count": 11,
   "metadata": {},
   "outputs": [
    {
     "data": {
      "text/plain": [
       "3532"
      ]
     },
     "execution_count": 11,
     "metadata": {},
     "output_type": "execute_result"
    }
   ],
   "source": [
    "len(test)"
   ]
  },
  {
   "cell_type": "code",
   "execution_count": 12,
   "metadata": {},
   "outputs": [],
   "source": [
    "from sklearn import preprocessing\n",
    "from sklearn.preprocessing import LabelEncoder, OneHotEncoder"
   ]
  },
  {
   "cell_type": "code",
   "execution_count": 13,
   "metadata": {},
   "outputs": [
    {
     "data": {
      "text/html": [
       "<div>\n",
       "<style scoped>\n",
       "    .dataframe tbody tr th:only-of-type {\n",
       "        vertical-align: middle;\n",
       "    }\n",
       "\n",
       "    .dataframe tbody tr th {\n",
       "        vertical-align: top;\n",
       "    }\n",
       "\n",
       "    .dataframe thead th {\n",
       "        text-align: right;\n",
       "    }\n",
       "</style>\n",
       "<table border=\"1\" class=\"dataframe\">\n",
       "  <thead>\n",
       "    <tr style=\"text-align: right;\">\n",
       "      <th></th>\n",
       "      <th>Product_Supermarket_Identifier</th>\n",
       "      <th>Product_Shelf_Visibility</th>\n",
       "      <th>Product_Type</th>\n",
       "      <th>Product_Price</th>\n",
       "      <th>Supermarket_Opening_Year</th>\n",
       "      <th>Supermarket_Location_Type</th>\n",
       "      <th>Supermarket_Type</th>\n",
       "      <th>Product_Supermarket_Sales</th>\n",
       "    </tr>\n",
       "  </thead>\n",
       "  <tbody>\n",
       "    <tr>\n",
       "      <th>0</th>\n",
       "      <td>DRA12_CHUKWUDI010</td>\n",
       "      <td>0.069</td>\n",
       "      <td>Soft Drinks</td>\n",
       "      <td>357.540</td>\n",
       "      <td>2005</td>\n",
       "      <td>Cluster 3</td>\n",
       "      <td>Grocery Store</td>\n",
       "      <td>709.080</td>\n",
       "    </tr>\n",
       "    <tr>\n",
       "      <th>1</th>\n",
       "      <td>DRA12_CHUKWUDI013</td>\n",
       "      <td>0.041</td>\n",
       "      <td>Soft Drinks</td>\n",
       "      <td>355.790</td>\n",
       "      <td>1994</td>\n",
       "      <td>Cluster 3</td>\n",
       "      <td>Supermarket Type1</td>\n",
       "      <td>6381.690</td>\n",
       "    </tr>\n",
       "  </tbody>\n",
       "</table>\n",
       "</div>"
      ],
      "text/plain": [
       "  Product_Supermarket_Identifier  Product_Shelf_Visibility Product_Type  \\\n",
       "0              DRA12_CHUKWUDI010                     0.069  Soft Drinks   \n",
       "1              DRA12_CHUKWUDI013                     0.041  Soft Drinks   \n",
       "\n",
       "   Product_Price  Supermarket_Opening_Year Supermarket_Location_Type  \\\n",
       "0        357.540                      2005                 Cluster 3   \n",
       "1        355.790                      1994                 Cluster 3   \n",
       "\n",
       "    Supermarket_Type  Product_Supermarket_Sales  \n",
       "0      Grocery Store                    709.080  \n",
       "1  Supermarket Type1                   6381.690  "
      ]
     },
     "execution_count": 13,
     "metadata": {},
     "output_type": "execute_result"
    }
   ],
   "source": [
    "train.head(2)"
   ]
  },
  {
   "cell_type": "code",
   "execution_count": 14,
   "metadata": {},
   "outputs": [
    {
     "name": "stdout",
     "output_type": "stream",
     "text": [
      "Shape all_data: (4990, 8)\n"
     ]
    }
   ],
   "source": [
    "from sklearn.preprocessing import LabelEncoder\n",
    "cols = ('Product_Supermarket_Identifier', 'Product_Type', 'Supermarket_Location_Type', 'Supermarket_Type')\n",
    "# process columns, apply LabelEncoder to categorical features\n",
    "for c in cols:\n",
    "    lbl = LabelEncoder() \n",
    "    lbl.fit(list(train[c].values)) \n",
    "    train[c] = lbl.transform(list(train[c].values))\n",
    "\n",
    "# shape        \n",
    "print('Shape all_data: {}'.format(train.shape))"
   ]
  },
  {
   "cell_type": "code",
   "execution_count": 15,
   "metadata": {},
   "outputs": [
    {
     "name": "stdout",
     "output_type": "stream",
     "text": [
      "Shape all_data: (3532, 7)\n"
     ]
    }
   ],
   "source": [
    "cols = ('Product_Supermarket_Identifier', 'Product_Type', 'Supermarket_Location_Type', 'Supermarket_Type')\n",
    "# process columns, apply LabelEncoder to categorical features\n",
    "for c in cols:\n",
    "    lbl = LabelEncoder() \n",
    "    lbl.fit(list(test[c].values)) \n",
    "    test[c] = lbl.transform(list(test[c].values))\n",
    "\n",
    "# shape        \n",
    "print('Shape all_data: {}'.format(test.shape))"
   ]
  },
  {
   "cell_type": "code",
   "execution_count": 17,
   "metadata": {},
   "outputs": [],
   "source": [
    "from sklearn.ensemble import RandomForestRegressor,  GradientBoostingRegressor, AdaBoostRegressor\n",
    "from sklearn.model_selection import KFold, cross_val_score, train_test_split\n",
    "from sklearn.metrics import mean_squared_error\n",
    "from sklearn.cross_validation import train_test_split\n",
    "from sklearn.metrics import accuracy_score, mean_absolute_error\n",
    "from sklearn.tree import DecisionTreeRegressor\n",
    "from xgboost import XGBRegressor"
   ]
  },
  {
   "cell_type": "raw",
   "metadata": {},
   "source": [
    "train_label = train['Product_Supermarket_Sales']"
   ]
  },
  {
   "cell_type": "code",
   "execution_count": 18,
   "metadata": {},
   "outputs": [],
   "source": [
    "X = train[['Product_Price', 'Product_Supermarket_Identifier', 'Product_Type', 'Supermarket_Location_Type', 'Supermarket_Type']]"
   ]
  },
  {
   "cell_type": "code",
   "execution_count": 19,
   "metadata": {},
   "outputs": [],
   "source": [
    "y = train['Product_Supermarket_Sales']"
   ]
  },
  {
   "cell_type": "code",
   "execution_count": 20,
   "metadata": {},
   "outputs": [],
   "source": [
    "test = test[['Product_Price', 'Product_Supermarket_Identifier', 'Product_Type', 'Supermarket_Location_Type', 'Supermarket_Type']]"
   ]
  },
  {
   "cell_type": "code",
   "execution_count": 21,
   "metadata": {},
   "outputs": [],
   "source": [
    "X_test,X_train,y_test,y_train = train_test_split(X,y, random_state= 42, test_size=0.3)"
   ]
  },
  {
   "cell_type": "code",
   "execution_count": 22,
   "metadata": {},
   "outputs": [
    {
     "data": {
      "text/plain": [
       "array([0.55800673, 0.5019606 , 0.51931959, 0.59926579, 0.55228414])"
      ]
     },
     "execution_count": 22,
     "metadata": {},
     "output_type": "execute_result"
    }
   ],
   "source": [
    "from sklearn.model_selection import cross_val_score\n",
    "gbc = GradientBoostingRegressor()\n",
    "scores = cross_val_score(gbc,X_train, y_train, cv=5)\n",
    "scores"
   ]
  },
  {
   "cell_type": "code",
   "execution_count": 29,
   "metadata": {},
   "outputs": [],
   "source": [
    "gbc = XGBRegressor()"
   ]
  },
  {
   "cell_type": "code",
   "execution_count": 30,
   "metadata": {},
   "outputs": [
    {
     "data": {
      "text/plain": [
       "XGBRegressor(base_score=0.5, booster='gbtree', colsample_bylevel=1,\n",
       "       colsample_bytree=1, gamma=0, learning_rate=0.1, max_delta_step=0,\n",
       "       max_depth=3, min_child_weight=1, missing=None, n_estimators=100,\n",
       "       n_jobs=1, nthread=None, objective='reg:linear', random_state=0,\n",
       "       reg_alpha=0, reg_lambda=1, scale_pos_weight=1, seed=None,\n",
       "       silent=True, subsample=1)"
      ]
     },
     "execution_count": 30,
     "metadata": {},
     "output_type": "execute_result"
    }
   ],
   "source": [
    "gbc.fit(X_train, y_train)"
   ]
  },
  {
   "cell_type": "code",
   "execution_count": 31,
   "metadata": {},
   "outputs": [
    {
     "name": "stdout",
     "output_type": "stream",
     "text": [
      "Training score is 0.6651612239268758\n",
      "\n",
      "\n",
      "Testing score is 0.5368664884425175\n",
      "\n",
      "\n",
      "mse: 6608115.6150\n",
      "\n"
     ]
    }
   ],
   "source": [
    "print('Training score is {}'.format(gbc.score(X_train, y_train)))\n",
    "print('\\n')\n",
    "print('Testing score is {}'.format(gbc.score(X_test, y_test)))\n",
    "print('\\n')\n",
    "print(\"mse: {0:.4f}\\n\".format((mean_squared_error(y_train, gbc.predict(X_train)))))"
   ]
  },
  {
   "cell_type": "code",
   "execution_count": 32,
   "metadata": {},
   "outputs": [],
   "source": [
    "from math import sqrt"
   ]
  },
  {
   "cell_type": "code",
   "execution_count": 33,
   "metadata": {},
   "outputs": [],
   "source": [
    "training_predict = gbc.predict(X_train)"
   ]
  },
  {
   "cell_type": "code",
   "execution_count": 34,
   "metadata": {},
   "outputs": [
    {
     "name": "stdout",
     "output_type": "stream",
     "text": [
      "MSE: 6608115.6150\n"
     ]
    }
   ],
   "source": [
    "gbc.fit(X_train, y_train)\n",
    "mse = mean_squared_error(y_train, gbc.predict(X_train))\n",
    "print(\"MSE: %.4f\" % mse)"
   ]
  },
  {
   "cell_type": "code",
   "execution_count": 35,
   "metadata": {},
   "outputs": [],
   "source": [
    "rms = sqrt(mean_squared_error(y_train, gbc.predict(X_train)))"
   ]
  },
  {
   "cell_type": "code",
   "execution_count": 36,
   "metadata": {},
   "outputs": [
    {
     "name": "stdout",
     "output_type": "stream",
     "text": [
      "rms error is: 2570.6255299005384\n"
     ]
    }
   ],
   "source": [
    "print(\"rms error is: \" + str(rms))"
   ]
  },
  {
   "cell_type": "code",
   "execution_count": null,
   "metadata": {},
   "outputs": [],
   "source": []
  },
  {
   "cell_type": "code",
   "execution_count": 37,
   "metadata": {},
   "outputs": [],
   "source": [
    "prediction = gbc.predict(test)"
   ]
  },
  {
   "cell_type": "code",
   "execution_count": 38,
   "metadata": {},
   "outputs": [
    {
     "name": "stdout",
     "output_type": "stream",
     "text": [
      "[-142.53864 6080.896   5908.4717  ... 9703.165   1278.2546  7686.6675 ]\n"
     ]
    }
   ],
   "source": [
    "print(prediction)"
   ]
  },
  {
   "cell_type": "code",
   "execution_count": 39,
   "metadata": {},
   "outputs": [],
   "source": [
    "submission = pd.read_csv('SampleSubmission.csv')"
   ]
  },
  {
   "cell_type": "raw",
   "metadata": {},
   "source": [
    "submission.head()"
   ]
  },
  {
   "cell_type": "code",
   "execution_count": 40,
   "metadata": {},
   "outputs": [
    {
     "data": {
      "text/plain": [
       "3532"
      ]
     },
     "execution_count": 40,
     "metadata": {},
     "output_type": "execute_result"
    }
   ],
   "source": [
    "len(submission)"
   ]
  },
  {
   "cell_type": "raw",
   "metadata": {},
   "source": [
    "len(prediction)"
   ]
  },
  {
   "cell_type": "markdown",
   "metadata": {},
   "source": [
    "# Predictions"
   ]
  },
  {
   "cell_type": "code",
   "execution_count": 41,
   "metadata": {
    "scrolled": true
   },
   "outputs": [
    {
     "data": {
      "text/html": [
       "<div>\n",
       "<style scoped>\n",
       "    .dataframe tbody tr th:only-of-type {\n",
       "        vertical-align: middle;\n",
       "    }\n",
       "\n",
       "    .dataframe tbody tr th {\n",
       "        vertical-align: top;\n",
       "    }\n",
       "\n",
       "    .dataframe thead th {\n",
       "        text-align: right;\n",
       "    }\n",
       "</style>\n",
       "<table border=\"1\" class=\"dataframe\">\n",
       "  <thead>\n",
       "    <tr style=\"text-align: right;\">\n",
       "      <th></th>\n",
       "      <th>Product_Supermarket_Identifier</th>\n",
       "      <th>Product_Supermarket_Sales</th>\n",
       "    </tr>\n",
       "  </thead>\n",
       "  <tbody>\n",
       "    <tr>\n",
       "      <th>0</th>\n",
       "      <td>DRA59_CHUKWUDI010</td>\n",
       "      <td>-142.539</td>\n",
       "    </tr>\n",
       "    <tr>\n",
       "      <th>1</th>\n",
       "      <td>DRA59_CHUKWUDI013</td>\n",
       "      <td>6080.896</td>\n",
       "    </tr>\n",
       "    <tr>\n",
       "      <th>2</th>\n",
       "      <td>DRB01_CHUKWUDI013</td>\n",
       "      <td>5908.472</td>\n",
       "    </tr>\n",
       "    <tr>\n",
       "      <th>3</th>\n",
       "      <td>DRB13_CHUKWUDI010</td>\n",
       "      <td>-142.539</td>\n",
       "    </tr>\n",
       "    <tr>\n",
       "      <th>4</th>\n",
       "      <td>DRB13_CHUKWUDI013</td>\n",
       "      <td>6080.896</td>\n",
       "    </tr>\n",
       "  </tbody>\n",
       "</table>\n",
       "</div>"
      ],
      "text/plain": [
       "  Product_Supermarket_Identifier  Product_Supermarket_Sales\n",
       "0              DRA59_CHUKWUDI010                   -142.539\n",
       "1              DRA59_CHUKWUDI013                   6080.896\n",
       "2              DRB01_CHUKWUDI013                   5908.472\n",
       "3              DRB13_CHUKWUDI010                   -142.539\n",
       "4              DRB13_CHUKWUDI013                   6080.896"
      ]
     },
     "execution_count": 41,
     "metadata": {},
     "output_type": "execute_result"
    }
   ],
   "source": [
    "submission['Product_Supermarket_Sales'] =prediction\n",
    "#check your submission head\n",
    "submission.head()"
   ]
  },
  {
   "cell_type": "code",
   "execution_count": 42,
   "metadata": {},
   "outputs": [],
   "source": [
    "submission.to_csv('darenew.csv', index=None)"
   ]
  },
  {
   "cell_type": "code",
   "execution_count": null,
   "metadata": {},
   "outputs": [],
   "source": []
  },
  {
   "cell_type": "code",
   "execution_count": null,
   "metadata": {},
   "outputs": [],
   "source": []
  },
  {
   "cell_type": "code",
   "execution_count": null,
   "metadata": {},
   "outputs": [],
   "source": []
  }
 ],
 "metadata": {
  "kernelspec": {
   "display_name": "Python 3",
   "language": "python",
   "name": "python3"
  },
  "language_info": {
   "codemirror_mode": {
    "name": "ipython",
    "version": 3
   },
   "file_extension": ".py",
   "mimetype": "text/x-python",
   "name": "python",
   "nbconvert_exporter": "python",
   "pygments_lexer": "ipython3",
   "version": "3.6.5"
  }
 },
 "nbformat": 4,
 "nbformat_minor": 2
}
